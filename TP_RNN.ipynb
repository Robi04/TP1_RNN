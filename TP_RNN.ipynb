{
  "cells": [
    {
      "cell_type": "markdown",
      "metadata": {
        "id": "xpAuMVCwfWs8"
      },
      "source": [
        "# Recurrent Neural Network"
      ]
    },
    {
      "cell_type": "markdown",
      "metadata": {
        "id": "nxJfRe4bfYVA"
      },
      "source": [
        "## Part 1 - Data Preprocessing"
      ]
    },
    {
      "cell_type": "markdown",
      "metadata": {
        "id": "ir9zwETrfbrp"
      },
      "source": [
        "### Importing the libraries"
      ]
    },
    {
      "cell_type": "code",
      "execution_count": 85,
      "metadata": {
        "id": "ZT1f24vHffuf"
      },
      "outputs": [],
      "source": [
        "import torch\n",
        "import torch.nn as nn\n",
        "import numpy as np\n",
        "import matplotlib.pyplot as plt\n",
        "import pandas as pd"
      ]
    },
    {
      "cell_type": "markdown",
      "metadata": {
        "id": "nQ47JAxrgmaL"
      },
      "source": [
        "### Importing the training set"
      ]
    },
    {
      "cell_type": "code",
      "execution_count": 86,
      "metadata": {
        "id": "1xiv3pJOgqY3"
      },
      "outputs": [
        {
          "name": "stdout",
          "output_type": "stream",
          "text": [
            "       Date    Open    High     Low   Close      Volume\n",
            "0  1/3/2012  325.25  332.83  324.97  663.59   7,380,500\n",
            "1  1/4/2012  331.27  333.87  329.08  666.45   5,749,400\n",
            "2  1/5/2012  329.83  330.75  326.89  657.21   6,590,300\n",
            "3  1/6/2012  328.34  328.77  323.68  648.24   5,405,900\n",
            "4  1/9/2012  322.04  322.29  309.46  620.76  11,688,800\n"
          ]
        }
      ],
      "source": [
        "# Read the data frame\n",
        "dataset_train = pd.read_csv('Google_Stock_Price_Train.csv')\n",
        "\n",
        "# Convert the value to predict in numpy array\n",
        "training_set = dataset_train.iloc[:, 1:2].values\n",
        "print(dataset_train.head(5))"
      ]
    },
    {
      "cell_type": "markdown",
      "metadata": {
        "id": "HT8_2UJegtG5"
      },
      "source": [
        "### Feature Scaling"
      ]
    },
    {
      "cell_type": "code",
      "execution_count": 87,
      "metadata": {
        "id": "OTrF2kR7gx9x"
      },
      "outputs": [],
      "source": [
        "# Use the normalization transformation to the nparray (MinMaxScaler)\n",
        "from sklearn.preprocessing import MinMaxScaler\n",
        "scaler = MinMaxScaler(feature_range=(0, 1))\n",
        "scaler.fit(training_set)\n",
        "training_set = scaler.transform(training_set)"
      ]
    },
    {
      "cell_type": "markdown",
      "metadata": {
        "id": "JyYgYocqhNUg"
      },
      "source": [
        "### Creating a data structure with 60 timesteps and 1 output"
      ]
    },
    {
      "cell_type": "code",
      "execution_count": 88,
      "metadata": {
        "id": "iofU21B0i6ST"
      },
      "outputs": [],
      "source": [
        "# For each financial day, you will take into account the stock price of the 60\n",
        "# previous days to predict the future stock price\n",
        "# build X_train and y_train according to this\n",
        "# YOUR CODE\n",
        "X_train = []\n",
        "y_train = []\n",
        "for i in range(60, len(training_set)):\n",
        "    X_train.append(training_set[i-60:i, 0])\n",
        "    y_train.append(training_set[i, 0])\n",
        "\n",
        "# X_train and y_train must be numpy array\n",
        "# YOUR CODE\n",
        "X_train, y_train = np.array(X_train), np.array(y_train)"
      ]
    },
    {
      "cell_type": "code",
      "execution_count": 89,
      "metadata": {},
      "outputs": [
        {
          "name": "stdout",
          "output_type": "stream",
          "text": [
            "[0.08581368 0.09701243 0.09433366 0.09156187 0.07984225 0.0643277\n",
            " 0.0585423  0.06568569 0.06109085 0.06639259 0.0614257  0.07474514\n",
            " 0.02797827 0.02379269 0.02409033 0.0159238  0.01078949 0.00967334\n",
            " 0.01642607 0.02100231 0.02280676 0.02273235 0.02810849 0.03212665\n",
            " 0.0433812  0.04475779 0.04790163 0.0440695  0.04648783 0.04745517\n",
            " 0.04873875 0.03936305 0.04137213 0.04034898 0.04784582 0.04325099\n",
            " 0.04356723 0.04286033 0.04602277 0.05398467 0.05738894 0.05714711\n",
            " 0.05569611 0.04421832 0.04514845 0.04605997 0.04412531 0.03675869\n",
            " 0.04486941 0.05065481 0.05214302 0.05612397 0.05818885 0.06540665\n",
            " 0.06882953 0.07243843 0.07993526 0.07846566 0.08034452 0.08497656]\n",
            "0.08627874097775134\n"
          ]
        }
      ],
      "source": [
        "print(X_train[0])\n",
        "print(y_train[0])"
      ]
    },
    {
      "cell_type": "markdown",
      "metadata": {
        "id": "D8yaN7Zvi95l"
      },
      "source": [
        "### Building the dataloader"
      ]
    },
    {
      "cell_type": "code",
      "execution_count": 90,
      "metadata": {
        "id": "FOXqJHmNjBkz"
      },
      "outputs": [],
      "source": [
        "# Convert your data to PyTorch float tensors\n",
        "# YOUR CODE\n",
        "X_train = torch.tensor(X_train,dtype=torch.float32)\n",
        "y_train = torch.tensor(y_train,dtype=torch.float32)\n",
        "\n",
        "\n",
        "# Build the DataLoader with batch of size 32\n",
        "# YOUR CODE\n",
        "from torch.utils.data import TensorDataset, DataLoader\n",
        "train_dataset = TensorDataset(X_train.unsqueeze(2), y_train)\n",
        "train_loader = DataLoader(train_dataset, batch_size=32, shuffle=True)\n"
      ]
    },
    {
      "cell_type": "markdown",
      "metadata": {
        "id": "ZRRSOJeVjEWV"
      },
      "source": [
        "## Part 2 - Building and Training the RNN"
      ]
    },
    {
      "cell_type": "markdown",
      "metadata": {
        "id": "FEIE-1s9jNzC"
      },
      "source": [
        "### Define the RNN model"
      ]
    },
    {
      "cell_type": "code",
      "execution_count": 91,
      "metadata": {
        "id": "1338dJ0UjRKH"
      },
      "outputs": [],
      "source": [
        "# Build a class for your model\n",
        "# dim caché = arg à foutre en propriété de la classe\n",
        "# un layer linear en sortie\n",
        "# The model will contains LSTM layers with 50 memory units (or neurons) and two layers by default,\n",
        "# Set a dropout regularisation with a rate of 0.2\n",
        "# Finally add the output Linear layer, the output will be of one dimension (one stock price predicted)\n",
        "\n",
        "# YOUR CODE\n",
        "class LSTM(nn.Module):\n",
        "    def __init__(self, input_size=1, hidden_size=100):\n",
        "        super().__init__()\n",
        "        self.lstm1 = nn.LSTM(input_size=input_size, hidden_size=hidden_size,dropout=0.2,num_layers=2,batch_first=True)\n",
        "        self.linear1 = nn.Linear(in_features=hidden_size, out_features=1)\n",
        "\n",
        "    def forward(self, x):\n",
        "        x,_ = self.lstm1(x)\n",
        "        x = x[:, -1, :]\n",
        "        x = self.linear1(x)\n",
        "        return x\n",
        "    "
      ]
    },
    {
      "cell_type": "markdown",
      "metadata": {
        "collapsed": false,
        "id": "RkJ4icm-4Ncs"
      },
      "source": [
        "### Instantiate the model, loss function, and optimizer"
      ]
    },
    {
      "cell_type": "code",
      "execution_count": 92,
      "metadata": {
        "id": "XTrhVN-tkbko"
      },
      "outputs": [
        {
          "name": "stderr",
          "output_type": "stream",
          "text": [
            "/Users/robinbochu/.pyenv/versions/3.11.8/lib/python3.11/site-packages/torch/nn/_reduction.py:42: UserWarning: size_average and reduce args will be deprecated, please use reduction='mean' instead.\n",
            "  warnings.warn(warning.format(ret))\n"
          ]
        }
      ],
      "source": [
        "# Set the device to gpu if possible else to cpu\n",
        "# CODE HERE\n",
        "device = torch.device('mps')\n",
        "\n",
        "# Instantiate the RNN with Adam optimizer and the mean squared error as loss function, put the RNN on the device\n",
        "# YOUR CODE\n",
        "rnn = LSTM()\n",
        "optimizer = torch.optim.Adam(rnn.parameters(), lr=0.01)\n",
        "criterion = nn.MSELoss(rnn.parameters)\n"
      ]
    },
    {
      "cell_type": "markdown",
      "metadata": {
        "id": "-mPhwKGkkebi"
      },
      "source": [
        "### Fitting the RNN to the Training set"
      ]
    },
    {
      "cell_type": "code",
      "execution_count": 93,
      "metadata": {
        "id": "I06Nkrz5kkb-"
      },
      "outputs": [
        {
          "name": "stdout",
          "output_type": "stream",
          "text": [
            "Epoch 0 Iteration 0 Loss: 0.41190215945243835\n"
          ]
        },
        {
          "name": "stderr",
          "output_type": "stream",
          "text": [
            "/Users/robinbochu/.pyenv/versions/3.11.8/lib/python3.11/site-packages/torch/nn/modules/loss.py:535: UserWarning: Using a target size (torch.Size([32])) that is different to the input size (torch.Size([32, 1])). This will likely lead to incorrect results due to broadcasting. Please ensure they have the same size.\n",
            "  return F.mse_loss(input, target, reduction=self.reduction)\n"
          ]
        },
        {
          "name": "stderr",
          "output_type": "stream",
          "text": [
            "/Users/robinbochu/.pyenv/versions/3.11.8/lib/python3.11/site-packages/torch/nn/modules/loss.py:535: UserWarning: Using a target size (torch.Size([14])) that is different to the input size (torch.Size([14, 1])). This will likely lead to incorrect results due to broadcasting. Please ensure they have the same size.\n",
            "  return F.mse_loss(input, target, reduction=self.reduction)\n"
          ]
        },
        {
          "name": "stdout",
          "output_type": "stream",
          "text": [
            "Epoch 1 Iteration 0 Loss: 0.07770766317844391\n",
            "Epoch 2 Iteration 0 Loss: 0.05206522345542908\n",
            "Epoch 3 Iteration 0 Loss: 0.06531432271003723\n",
            "Epoch 4 Iteration 0 Loss: 0.07390963286161423\n",
            "Epoch 5 Iteration 0 Loss: 0.07941857725381851\n",
            "Epoch 6 Iteration 0 Loss: 0.08467347919940948\n",
            "Epoch 7 Iteration 0 Loss: 0.04439718648791313\n",
            "Epoch 8 Iteration 0 Loss: 0.07138518244028091\n",
            "Epoch 9 Iteration 0 Loss: 0.07049747556447983\n",
            "Epoch 10 Iteration 0 Loss: 0.08468665182590485\n",
            "Epoch 11 Iteration 0 Loss: 0.0908975750207901\n",
            "Epoch 12 Iteration 0 Loss: 0.05543223023414612\n",
            "Epoch 13 Iteration 0 Loss: 0.0708845853805542\n",
            "Epoch 14 Iteration 0 Loss: 0.07554423063993454\n",
            "Epoch 15 Iteration 0 Loss: 0.058889515697956085\n"
          ]
        }
      ],
      "source": [
        "\n",
        "# Train the model using the training set using 100 epochs and a batch size of 32\n",
        "# This will take some time.\n",
        "# YOUR CODE\n",
        "def train(model,epoch_number,train_loader,optimizer,criterion):\n",
        "    for epoch in range(epoch_number):\n",
        "        for i, (inputs, targets) in enumerate(train_loader):\n",
        "            inputs = inputs\n",
        "            targets = targets\n",
        "            optimizer.zero_grad()\n",
        "            outputs = model(inputs)\n",
        "            loss = criterion(outputs, targets)\n",
        "            loss.backward()\n",
        "            optimizer.step()\n",
        "            if i % 100 == 0:\n",
        "                print(f'Epoch {epoch} Iteration {i} Loss: {loss.item()}')\n",
        "\n",
        "# Do you see loss value converge ?\n",
        "# DO you think the model have overfit the training data ?\n",
        "                \n",
        "train(rnn,50,train_loader,optimizer,criterion)"
      ]
    },
    {
      "cell_type": "markdown",
      "metadata": {
        "id": "4hRau_lIkrE8"
      },
      "source": [
        "## Part 3 - Making the predictions and visualising the results"
      ]
    },
    {
      "cell_type": "markdown",
      "metadata": {
        "id": "SgJO6qEDksxD"
      },
      "source": [
        "### Getting the real stock price of 2017"
      ]
    },
    {
      "cell_type": "markdown",
      "metadata": {},
      "source": [
        "Problème jeu de test donc on part sur le train pour la suite "
      ]
    },
    {
      "cell_type": "code",
      "execution_count": null,
      "metadata": {
        "id": "FmBT2zqukxTz"
      },
      "outputs": [
        {
          "name": "stdout",
          "output_type": "stream",
          "text": [
            "tensor(0.1619)\n"
          ]
        }
      ],
      "source": [
        "# Read the test data sample and convert to numpy array using Stock Value\n",
        "# YOUR CODE\n",
        "\n",
        "# Lecture nouveau fichier\n",
        "test_data = pd.read_csv('Google_Stock_Price_Test.csv')\n",
        "test_set = test_data.iloc[:, 1:2].values\n",
        "\n",
        "# On normalise\n",
        "scaler = MinMaxScaler(feature_range=(0, 1))\n",
        "scaler.fit(test_set)\n",
        "test_set = scaler.transform(test_set)\n",
        "\n",
        "# On récupère les 60 derniers jours de training_set pour calculer les nouveaux y \n",
        "previous = training_set[-60:]\n",
        "previous = scaler.transform(previous)\n",
        "\n",
        "# On concatène -> On a donc 80 valeurs aux totales \n",
        "concatenate = np.concatenate((previous, test_set), axis=0)\n",
        "\n",
        "# Build the X_test and y_test\n",
        "X_test = []\n",
        "y_test = []\n",
        "\n",
        "# On commence à 60 donc 20 valeurs nouvelles à prédire\n",
        "for i in range (60, len(concatenate)):\n",
        "    X_test.append(concatenate[i-60:i, 0])\n",
        "    y_test.append(concatenate[i, 0])\n",
        "\n",
        "\n",
        "# Convert to numpy array\n",
        "X_test, y_test = np.array(X_test), np.array(y_test)\n",
        "\n",
        "# Prédiction\n",
        "X_test = torch.tensor(X_test,dtype=torch.float32)\n",
        "y_test = torch.tensor(y_test,dtype=torch.float32)\n",
        "\n",
        "rnn.eval()\n",
        "results = []\n",
        "print(y_test[1])\n",
        "# Désactive le calcul du gradient pour accélérer les calculs et réduire la mémoire\n",
        "with torch.no_grad():\n",
        "    for i in range(len(X_test)):\n",
        "        # Prédiction avec le modèle\n",
        "        prediction = rnn(X_test[i].unsqueeze(0).unsqueeze(2))\n",
        "        # Enregistrez la prédiction\n",
        "        results.append(prediction.item())\n",
        "\n",
        "# Convertir les résultats en un array numpy pour un traitement ultérieur si nécessaire\n",
        "results = np.array(results)\n",
        "\n",
        "# Pour inverser la normalisation et obtenir les valeurs réelles des actions :\n",
        "results = scaler.inverse_transform(results.reshape(-1, 1))\n"
      ]
    },
    {
      "cell_type": "markdown",
      "metadata": {
        "id": "GrvrLblxkz42"
      },
      "source": [
        "### Getting the predicted stock price of 2017"
      ]
    },
    {
      "cell_type": "code",
      "execution_count": null,
      "metadata": {
        "id": "emikTvUpk3Ck"
      },
      "outputs": [],
      "source": [
        "# Prepare the test input data as the input training data:\n",
        "# As we use the 60 previous day for each financial day for the training,\n",
        "# we have to build the same structure for the test data.\n",
        "# 1. For each financial day of the test set, you need to use the 60 previous day\n",
        "# values, so you need to concatenate train and test set.\n",
        "# 2. Use the normalization transformation after the concatenation.\n",
        "# 3. For each financial day of the test set, get the 60 previous day values\n",
        "# 4. Create the 3D data : add the new dimension by reshaping the array\n",
        "# hint : if you get any numpy shape warning, use the method reshape(-1,1) on your numpy array\n",
        "\n",
        "# YOUR CODE\n",
        "\n",
        "\n",
        "\n",
        "# Convert to PyTorch tensor\n",
        "# YOUR CODE\n"
      ]
    },
    {
      "cell_type": "markdown",
      "metadata": {
        "collapsed": false,
        "id": "RVLwknyo4Nct"
      },
      "source": [
        "### Make predictions on test data"
      ]
    },
    {
      "cell_type": "code",
      "execution_count": null,
      "metadata": {
        "id": "l4kvySOH4Ncu"
      },
      "outputs": [
        {
          "name": "stdout",
          "output_type": "stream",
          "text": [
            "RMSE: 802.7061720108468\n"
          ]
        }
      ],
      "source": [
        "import numpy as np\n",
        "import matplotlib.pyplot as plt\n",
        "from sklearn.metrics import mean_squared_error\n",
        "\n",
        "\n",
        "# Calculate RMSE\n",
        "rmse = np.sqrt(mean_squared_error(y_test, results))\n",
        "print(f'RMSE: {rmse}')"
      ]
    },
    {
      "cell_type": "markdown",
      "metadata": {
        "id": "iFTNs3YHk6FQ"
      },
      "source": [
        "### Visualising the results"
      ]
    },
    {
      "cell_type": "code",
      "execution_count": null,
      "metadata": {},
      "outputs": [
        {
          "name": "stdout",
          "output_type": "stream",
          "text": [
            "783.9004458984732\n"
          ]
        },
        {
          "name": "stderr",
          "output_type": "stream",
          "text": [
            "/var/folders/j3/tchtxx29319gbp_dsgcljm800000gn/T/ipykernel_70892/1283195470.py:2: DeprecationWarning: Conversion of an array with ndim > 0 to a scalar is deprecated, and will error in future. Ensure you extract a single element from your array before performing this operation. (Deprecated NumPy 1.25.)\n",
            "  print(float(predictions[0]))\n",
            "/var/folders/j3/tchtxx29319gbp_dsgcljm800000gn/T/ipykernel_70892/1283195470.py:5: DeprecationWarning: Conversion of an array with ndim > 0 to a scalar is deprecated, and will error in future. Ensure you extract a single element from your array before performing this operation. (Deprecated NumPy 1.25.)\n",
            "  final_form_results.append(float(predictions[i]))\n",
            "/var/folders/j3/tchtxx29319gbp_dsgcljm800000gn/T/ipykernel_70892/1283195470.py:8: DeprecationWarning: Conversion of an array with ndim > 0 to a scalar is deprecated, and will error in future. Ensure you extract a single element from your array before performing this operation. (Deprecated NumPy 1.25.)\n",
            "  final_form_results.append(float(results[i]))\n"
          ]
        },
        {
          "data": {
            "image/png": "[encoded data removed]",
            "text/plain": [
              "<Figure size 1000x600 with 1 Axes>"
            ]
          },
          "metadata": {},
          "output_type": "display_data"
        }
      ],
      "source": [
        "predictions = [scaler.inverse_transform(y_train[i].reshape(1, -1)) for i in range(len(y_train))]\n",
        "print(float(predictions[0]))\n",
        "final_form_results = []\n",
        "for i in range (len(predictions)):\n",
        "    final_form_results.append(float(predictions[i]))\n",
        "\n",
        "for i in range(len(results)):\n",
        "    final_form_results.append(float(results[i]))\n",
        "\n",
        "# Build a visualization of the predicted and the real Stock prices of the final_form_results set\n",
        "plt.figure(figsize=(10, 6))\n",
        "plt.plot(final_form_results, label='Prediction', color='red')\n",
        "plt.plot(scaler.inverse_transform(y_train.reshape(-1, 1)), label='Stock Price', color='blue')\n",
        "plt.title('Stock Price Prediction')\n",
        "plt.legend()\n",
        "plt.show()"
      ]
    },
    {
      "cell_type": "code",
      "execution_count": null,
      "metadata": {},
      "outputs": [
        {
          "name": "stdout",
          "output_type": "stream",
          "text": [
            "[[783.9004459 ]\n",
            " [783.80825145]\n",
            " [783.20789058]\n",
            " ...\n",
            " [835.28782731]\n",
            " [834.14966279]\n",
            " [834.08600747]]\n",
            "20\n",
            "[0, 1, 2, 3, 4, 5, 6, 7, 8, 9, 10, 11, 12, 13, 14, 15, 16, 17, 18, 19, 20, 21, 22, 23, 24, 25, 26, 27, 28, 29, 30, 31, 32, 33, 34, 35, 36, 37, 38, 39, 40, 41, 42, 43, 44, 45, 46, 47, 48, 49, 50, 51, 52, 53, 54, 55, 56, 57, 58, 59, 60, 61, 62, 63, 64, 65, 66, 67, 68, 69, 70, 71, 72, 73, 74, 75, 76, 77, 78, 79, 80, 81, 82, 83, 84, 85, 86, 87, 88, 89, 90, 91, 92, 93, 94, 95, 96, 97, 98, 99, 100, 101, 102, 103, 104, 105, 106, 107, 108, 109, 110, 111, 112, 113, 114, 115, 116, 117, 118, 119, 120, 121, 122, 123, 124, 125, 126, 127, 128, 129, 130, 131, 132, 133, 134, 135, 136, 137, 138, 139, 140, 141, 142, 143, 144, 145, 146, 147, 148, 149, 150, 151, 152, 153, 154, 155, 156, 157, 158, 159, 160, 161, 162, 163, 164, 165, 166, 167, 168, 169, 170, 171, 172, 173, 174, 175, 176, 177, 178, 179, 180, 181, 182, 183, 184, 185, 186, 187, 188, 189, 190, 191, 192, 193, 194, 195, 196, 197, 198, 199, 200, 201, 202, 203, 204, 205, 206, 207, 208, 209, 210, 211, 212, 213, 214, 215, 216, 217, 218, 219, 220, 221, 222, 223, 224, 225, 226, 227, 228, 229, 230, 231, 232, 233, 234, 235, 236, 237, 238, 239, 240, 241, 242, 243, 244, 245, 246, 247, 248, 249, 250, 251, 252, 253, 254, 255, 256, 257, 258, 259, 260, 261, 262, 263, 264, 265, 266, 267, 268, 269, 270, 271, 272, 273, 274, 275, 276, 277, 278, 279, 280, 281, 282, 283, 284, 285, 286, 287, 288, 289, 290, 291, 292, 293, 294, 295, 296, 297, 298, 299, 300, 301, 302, 303, 304, 305, 306, 307, 308, 309, 310, 311, 312, 313, 314, 315, 316, 317, 318, 319, 320, 321, 322, 323, 324, 325, 326, 327, 328, 329, 330, 331, 332, 333, 334, 335, 336, 337, 338, 339, 340, 341, 342, 343, 344, 345, 346, 347, 348, 349, 350, 351, 352, 353, 354, 355, 356, 357, 358, 359, 360, 361, 362, 363, 364, 365, 366, 367, 368, 369, 370, 371, 372, 373, 374, 375, 376, 377, 378, 379, 380, 381, 382, 383, 384, 385, 386, 387, 388, 389, 390, 391, 392, 393, 394, 395, 396, 397, 398, 399, 400, 401, 402, 403, 404, 405, 406, 407, 408, 409, 410, 411, 412, 413, 414, 415, 416, 417, 418, 419, 420, 421, 422, 423, 424, 425, 426, 427, 428, 429, 430, 431, 432, 433, 434, 435, 436, 437, 438, 439, 440, 441, 442, 443, 444, 445, 446, 447, 448, 449, 450, 451, 452, 453, 454, 455, 456, 457, 458, 459, 460, 461, 462, 463, 464, 465, 466, 467, 468, 469, 470, 471, 472, 473, 474, 475, 476, 477, 478, 479, 480, 481, 482, 483, 484, 485, 486, 487, 488, 489, 490, 491, 492, 493, 494, 495, 496, 497, 498, 499, 500, 501, 502, 503, 504, 505, 506, 507, 508, 509, 510, 511, 512, 513, 514, 515, 516, 517, 518, 519, 520, 521, 522, 523, 524, 525, 526, 527, 528, 529, 530, 531, 532, 533, 534, 535, 536, 537, 538, 539, 540, 541, 542, 543, 544, 545, 546, 547, 548, 549, 550, 551, 552, 553, 554, 555, 556, 557, 558, 559, 560, 561, 562, 563, 564, 565, 566, 567, 568, 569, 570, 571, 572, 573, 574, 575, 576, 577, 578, 579, 580, 581, 582, 583, 584, 585, 586, 587, 588, 589, 590, 591, 592, 593, 594, 595, 596, 597, 598, 599, 600, 601, 602, 603, 604, 605, 606, 607, 608, 609, 610, 611, 612, 613, 614, 615, 616, 617, 618, 619, 620, 621, 622, 623, 624, 625, 626, 627, 628, 629, 630, 631, 632, 633, 634, 635, 636, 637, 638, 639, 640, 641, 642, 643, 644, 645, 646, 647, 648, 649, 650, 651, 652, 653, 654, 655, 656, 657, 658, 659, 660, 661, 662, 663, 664, 665, 666, 667, 668, 669, 670, 671, 672, 673, 674, 675, 676, 677, 678, 679, 680, 681, 682, 683, 684, 685, 686, 687, 688, 689, 690, 691, 692, 693, 694, 695, 696, 697, 698, 699, 700, 701, 702, 703, 704, 705, 706, 707, 708, 709, 710, 711, 712, 713, 714, 715, 716, 717, 718, 719, 720, 721, 722, 723, 724, 725, 726, 727, 728, 729, 730, 731, 732, 733, 734, 735, 736, 737, 738, 739, 740, 741, 742, 743, 744, 745, 746, 747, 748, 749, 750, 751, 752, 753, 754, 755, 756, 757, 758, 759, 760, 761, 762, 763, 764, 765, 766, 767, 768, 769, 770, 771, 772, 773, 774, 775, 776, 777, 778, 779, 780, 781, 782, 783, 784, 785, 786, 787, 788, 789, 790, 791, 792, 793, 794, 795, 796, 797, 798, 799, 800, 801, 802, 803, 804, 805, 806, 807, 808, 809, 810, 811, 812, 813, 814, 815, 816, 817, 818, 819, 820, 821, 822, 823, 824, 825, 826, 827, 828, 829, 830, 831, 832, 833, 834, 835, 836, 837, 838, 839, 840, 841, 842, 843, 844, 845, 846, 847, 848, 849, 850, 851, 852, 853, 854, 855, 856, 857, 858, 859, 860, 861, 862, 863, 864, 865, 866, 867, 868, 869, 870, 871, 872, 873, 874, 875, 876, 877, 878, 879, 880, 881, 882, 883, 884, 885, 886, 887, 888, 889, 890, 891, 892, 893, 894, 895, 896, 897, 898, 899, 900, 901, 902, 903, 904, 905, 906, 907, 908, 909, 910, 911, 912, 913, 914, 915, 916, 917, 918, 919, 920, 921, 922, 923, 924, 925, 926, 927, 928, 929, 930, 931, 932, 933, 934, 935, 936, 937, 938, 939, 940, 941, 942, 943, 944, 945, 946, 947, 948, 949, 950, 951, 952, 953, 954, 955, 956, 957, 958, 959, 960, 961, 962, 963, 964, 965, 966, 967, 968, 969, 970, 971, 972, 973, 974, 975, 976, 977, 978, 979, 980, 981, 982, 983, 984, 985, 986, 987, 988, 989, 990, 991, 992, 993, 994, 995, 996, 997, 998, 999, 1000, 1001, 1002, 1003, 1004, 1005, 1006, 1007, 1008, 1009, 1010, 1011, 1012, 1013, 1014, 1015, 1016, 1017, 1018, 1019, 1020, 1021, 1022, 1023, 1024, 1025, 1026, 1027, 1028, 1029, 1030, 1031, 1032, 1033, 1034, 1035, 1036, 1037, 1038, 1039, 1040, 1041, 1042, 1043, 1044, 1045, 1046, 1047, 1048, 1049, 1050, 1051, 1052, 1053, 1054, 1055, 1056, 1057, 1058, 1059, 1060, 1061, 1062, 1063, 1064, 1065, 1066, 1067, 1068, 1069, 1070, 1071, 1072, 1073, 1074, 1075, 1076, 1077, 1078, 1079, 1080, 1081, 1082, 1083, 1084, 1085, 1086, 1087, 1088, 1089, 1090, 1091, 1092, 1093, 1094, 1095, 1096, 1097, 1098, 1099, 1100, 1101, 1102, 1103, 1104, 1105, 1106, 1107, 1108, 1109, 1110, 1111, 1112, 1113, 1114, 1115, 1116, 1117, 1118, 1119, 1120, 1121, 1122, 1123, 1124, 1125, 1126, 1127, 1128, 1129, 1130, 1131, 1132, 1133, 1134, 1135, 1136, 1137, 1138, 1139, 1140, 1141, 1142, 1143, 1144, 1145, 1146, 1147, 1148, 1149, 1150, 1151, 1152, 1153, 1154, 1155, 1156, 1157, 1158, 1159, 1160, 1161, 1162, 1163, 1164, 1165, 1166, 1167, 1168, 1169, 1170, 1171, 1172, 1173, 1174, 1175, 1176, 1177, 1178, 1179, 1180, 1181, 1182, 1183, 1184, 1185, 1186, 1187, 1188, 1189, 1190, 1191, 1192, 1193, 1194, 1195, 1196, 1197, 1198, 1199, 1200, 1201, 1202, 1203, 1204, 1205, 1206, 1207, 1208, 1209, 1210, 1211, 1212, 1213, 1214, 1215, 1216, 1217]\n"
          ]
        }
      ],
      "source": [
        "print(len(results))\n",
        "x = [i for i in range(len(y_train) + len(results))]\n",
        "print(x)"
      ]
    },
    {
      "cell_type": "markdown",
      "metadata": {
        "id": "7-e37KRKMA_I"
      },
      "source": [
        "Comment the results. How can you improve your model ? What are the different parameters you can modify ? Implement them. Do you see any change ?"
      ]
    },
    {
      "cell_type": "markdown",
      "metadata": {},
      "source": [
        "On voit que le modèle ne s'adapte pas du tout à la tendance. \n",
        "Je pense qu'il faut rajouter de la complexité à notre modèle et pourquoi pas faire de la data augmentation\n",
        "\n",
        "En parralèle de changer la structure de notre RNN je ferai osciller les hyperparamêtres tel que le batch size et le learning rate pour voir comment il s'adapte"
      ]
    }
  ],
  "metadata": {
    "accelerator": "GPU",
    "colab": {
      "gpuType": "T4",
      "provenance": []
    },
    "kernelspec": {
      "display_name": "Python 3",
      "name": "python3"
    },
    "language_info": {
      "codemirror_mode": {
        "name": "ipython",
        "version": 3
      },
      "file_extension": ".py",
      "mimetype": "text/x-python",
      "name": "python",
      "nbconvert_exporter": "python",
      "pygments_lexer": "ipython3",
      "version": "3.11.8"
    }
  },
  "nbformat": 4,
  "nbformat_minor": 0
}
